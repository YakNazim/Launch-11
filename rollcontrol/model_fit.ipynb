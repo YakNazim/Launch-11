{
 "metadata": {
  "name": ""
 },
 "nbformat": 3,
 "nbformat_minor": 0,
 "worksheets": [
  {
   "cells": [
    {
     "cell_type": "markdown",
     "metadata": {},
     "source": [
      "# Aerodynamic model for roll control canards\n",
      "\n",
      "Constants for a given rocket:\n",
      "\n",
      "- $F = 4$: number of canards\n",
      "- $A = 11.64 \\mathrm{cm}^2$: surface area of one canard\n",
      "- $r = 82 \\mathrm{mm}$: canard distance from the Z axis\n",
      "\n",
      "Parameters to fit:\n",
      "\n",
      "- $\\alpha$: angle of attack\n",
      "- $C_{L\\alpha}$: coefficient of lift\n",
      "- $\\rho$: air density\n",
      "- $v$: velocity\n",
      "- $I$: moment of inertia\n",
      "- $\\ddot\\theta$: angular acceleration\n",
      "\n",
      "Angular acceleration depends on how many canards there are, how much lift the each canard generates horizontally, how far they are from the center of the rocket, and the rocket's moment of inertia around this axis:\n",
      "\n",
      "$$\\ddot\\theta = \\frac{F L r}{I}$$\n",
      "\n",
      "$L$ is defined using the [Lift coefficient](http://en.wikipedia.org/wiki/Lift_coefficient):\n",
      "\n",
      "$$C_L = {\\frac{L}{\\frac{1}{2}\\rho v^2 S}}$$\n",
      "\n",
      "$S$ is the [planform area](http://en.wikipedia.org/wiki/Planform):\n",
      "\n",
      "$$S = A \\sin(\\alpha)$$\n",
      "\n",
      "However, we need to keep the angle of attack small because bad things happen otherwise, and that happily allows us to use the small angle approximation. (Also, the $C_{L\\alpha}$ models we'll use below are only valid for small angles, where the models are linear in planform area.) So we'll define $S$ this way:\n",
      "\n",
      "$$S = A \\alpha$$\n",
      "\n",
      "After a bit of substitution and rearranging, we get this expression for angular acceleration:\n",
      "\n",
      "$$\\ddot\\theta = \\frac{F \\left( C_{L\\alpha} \\frac{1}{2} \\rho v^2 A \\alpha \\right) r}{I}$$"
     ]
    },
    {
     "cell_type": "markdown",
     "metadata": {},
     "source": [
      "# Lift coefficient in subsonic flow\n",
      "\n",
      "Skipping the [subsonic lift coefficient derivation](http://psas.pdx.edu/CanardAerodynamics/#index1h2) that's covered elsewhere, here's the conclusion:\n",
      "\n",
      "$$C_L(\\alpha) = K_P \\cos^2 \\alpha \\sin \\alpha + K_V \\cos \\alpha \\sin^2 \\alpha$$\n",
      "\n",
      "For our 60&deg; delta-wing canard design, the coefficients are approximated as:\n",
      "\n",
      "- $K_P \\approx 2.45$\n",
      "- $K_V \\approx 3.21$"
     ]
    },
    {
     "cell_type": "markdown",
     "metadata": {},
     "source": [
      "# Lift coefficient in supersonic flow\n",
      "\n",
      "Skipping the [supersonic lift coefficient derivation](http://psas.pdx.edu/CanardAerodynamics/#index4h2) that's covered elsewhere, here's the conclusion.\n",
      "\n",
      "Our canards have a leading-edge angle $\\Lambda_{LE} = 60^\\circ$.\n",
      "\n",
      "Mach number is defined as:\n",
      "\n",
      "$$M = \\frac{v}{v_\\mathrm{sound}}$$\n",
      "\n",
      "$v_\\mathrm{sound}$ can be estimated from altitude using a [standard atmosphere model](http://www.digitaldutch.com/atmoscalc/).\n",
      "\n",
      "For a given Mach number, we define:\n",
      "\n",
      "- $\\beta = \\sqrt{M^2 - 1}$\n",
      "- $m = \\beta \\cot \\left( \\Lambda_{LE} \\right)$\n",
      "\n",
      "As long as $M < 1 / \\sin(\\Lambda_{LE})$ and $m < 1$, and given our canard design has $\\zeta = 0$:\n",
      "\n",
      "$$C_L = 2 \\pi \\frac{m}{\\beta E'(m)}$$\n",
      "\n",
      "As long as $0 \\leq m < 1$, we can use a polynomial approximation for the elliptic integral $E'(m)$:\n",
      "\n",
      "$$E'(m) \\approx 1 + \\sum_{k=1}^4 a_k m^{2k} + \\ln \\frac{1}{m^2} \\sum_{j=1}^4 b_k m^{2j}$$\n",
      "\n",
      "- $a_1 = 0.44325141463$\n",
      "- $a_2 = 0.06260601220$\n",
      "- $a_3 = 0.04757383546$\n",
      "- $a_4 = 0.01736506451$\n",
      "- $b_1 = 0.24998368310$\n",
      "- $b_2 = 0.09200180037$\n",
      "- $b_3 = 0.04069697526$\n",
      "- $b_4 = 0.00526449639$"
     ]
    },
    {
     "cell_type": "code",
     "collapsed": false,
     "input": [
      "from math import sin, tan, sqrt, pi\n",
      "speed_of_sound = 332.529 # m/s, using standard atmosphere model, at 2km above sea level\n",
      "peak_velocity = 340 # m/s\n",
      "lambda_le = 60 * pi / 180\n",
      "\n",
      "mach_number = peak_velocity / speed_of_sound\n",
      "beta = sqrt(mach_number ** 2 - 1)\n",
      "m = beta / tan(lambda_le)\n",
      "print \"Peak Mach number:\", mach_number\n",
      "print \"Critical Mach number:\", 1 / sin(60 * pi / 180)\n",
      "print \"m:\", m"
     ],
     "language": "python",
     "metadata": {},
     "outputs": [
      {
       "output_type": "stream",
       "stream": "stdout",
       "text": [
        "Peak Mach number: 1.02246721339\n",
        "Critical Mach number: 1.15470053838\n",
        "m: 0.123070714698\n"
       ]
      }
     ],
     "prompt_number": 1
    }
   ],
   "metadata": {}
  }
 ]
}